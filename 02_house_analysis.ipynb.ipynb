{
 "cells": [
  {
   "cell_type": "markdown",
   "id": "cb283f0f",
   "metadata": {},
   "source": [
    "Подготовка необходимых библиотек"
   ]
  },
  {
   "cell_type": "code",
   "execution_count": null,
   "id": "e63d6032",
   "metadata": {},
   "outputs": [],
   "source": [
    "import subprocess\n",
    "import geopandas as gpd\n",
    "import pandas as pd\n",
    "\n",
    "def install_packages(requirements_file): \n",
    "    print(f\"Установлены: {', '.join([line.split()[1] for line in subprocess.run(['pip', 'install', '--upgrade', '-r', requirements_file], capture_output=True, text=True).stdout.splitlines() if 'Successfully installed' in line])}\" if 'Successfully installed' in subprocess.run(['pip', 'install', '--upgrade', '-r', requirements_file], capture_output=True, text=True).stdout else \"Пакеты уже актуальны.\")\n",
    "\n",
    "# Пример использования\n",
    "install_packages('requirements/requirements.txt')\n",
    "install_packages('requirements/dev-requirements.txt')"
   ]
  },
  {
   "cell_type": "markdown",
   "id": "2112179b",
   "metadata": {},
   "source": [
    "Подготовка слоёв, проверка необходимых атрибутов"
   ]
  },
  {
   "cell_type": "code",
   "execution_count": null,
   "id": "0be5588c",
   "metadata": {},
   "outputs": [],
   "source": [
    "from check_geojson import check_geojson\n",
    "import json\n",
    "\n",
    "# Папка, где лежат required_columns.json и слои\n",
    "folder = \"path_to_folder\"\n",
    "\n",
    "# Функция для загрузки кодов жилых зон из JSON файла\n",
    "def load_living_codes(file_path):\n",
    "    try:\n",
    "        with open(file_path, \"r\", encoding=\"utf-8\") as f:\n",
    "            data = json.load(f)\n",
    "        return set(data.get(\"living_codes\", []))  # Возвращаем множество кодов жилых зон\n",
    "    except Exception as e:\n",
    "        print(f\"Ошибка при загрузке living_codes: {e}\")\n",
    "        return set()\n",
    "\n",
    "# Вызываем проверку и загрузку данных\n",
    "data = check_geojson(folder)\n",
    "\n",
    "# Достаём слои\n",
    "if data:\n",
    "    buildings   = data.get(\"buildings\")\n",
    "    zones       = data.get(\"zones\")\n",
    "    school      = data.get(\"school\")\n",
    "    polyclinic  = data.get(\"polyclinic\")\n",
    "    kindergarten= data.get(\"kindergarten\")\n",
    "    green       = data.get(\"green\")\n",
    "    park        = data.get(\"park\")\n",
    "\n",
    "    # Загружаем living_codes из файла\n",
    "    living_codes_path = \"living_codes.json\"\n",
    "    living_codes = load_living_codes(living_codes_path)\n",
    "\n",
    "    # Посмотрим, что загружено\n",
    "    print(\"Загруженные слои:\")\n",
    "    for name, gdf in data.items():\n",
    "        print(f\"  - {name}: {len(gdf)} объектов\")\n",
    "\n",
    "    # Дополнительно выводим коды жилых зон\n",
    "    print(f\"Загруженные коды жилых зон: {living_codes}\")\n",
    "else:\n",
    "    print(\"Слои не загружены.\")"
   ]
  },
  {
   "cell_type": "markdown",
   "id": "a6e7be00",
   "metadata": {},
   "source": [
    "Присвоение типа модели городской застройки окружающим зонам на территории которых возможно размщение социальных сервисов\n",
    "\n",
    "Расчёт физических параметров застройки в территориальных зонах, подсчёт проживающего населения - city_model_processing"
   ]
  },
  {
   "cell_type": "code",
   "execution_count": null,
   "id": "ff3d6855",
   "metadata": {},
   "outputs": [],
   "source": [
    "# Импортируем необходимые библиотеки\n",
    "import geopandas as gpd\n",
    "import pandas as pd\n",
    "from city_model_processing import *\n",
    "from apply_styles import apply_styles, create_map\n",
    "\n",
    "# Указываем информацию о населении в исследуемом городе\n",
    "living_population = # вставьте свое число жителей в городе\n",
    "\n",
    "# Производим присвоение новых атрибутов зданиям и территориальным зонам\n",
    "zones, balanced_buildings = process_city_model(zones, buildings, living_population, living_codes_path)\n",
    "\n",
    "# Визуализация\n",
    "zones = apply_styles(zones)\n",
    "m_1 = create_map(zones)\n",
    "m_1"
   ]
  },
  {
   "cell_type": "markdown",
   "id": "68fcdd05",
   "metadata": {},
   "source": [
    "Проставление атрибутов (радиуса доступности по городским моделям, при необходимости вместимости сервисов) с помощью service_data_processing\n",
    "\n",
    "Расчёт вакантных/занятых мест в социальных сервисах с помощью calculating_provision\n",
    "\n",
    "Определение участков, которые входят в радиус доступности социальных сервисов, присвоение атрибутов свободных/вакантных мест территориальным зонам в радиусе доступности - social_infrastructure_mapper "
   ]
  },
  {
   "cell_type": "code",
   "execution_count": null,
   "id": "1ab5f35e",
   "metadata": {},
   "outputs": [],
   "source": [
    "from shapely.ops import unary_union\n",
    "from objectnat import get_adj_matrix_gdf_to_gdf, get_intermodal_graph\n",
    " \n",
    "# Загружаем геометрии\n",
    "services = gpd.read_file(r\"path_to_file\") # необходимо указать путь до любого сервиса или границу города\n",
    "boundary = gpd.read_file(r\"path_to_file\")\n",
    "\n",
    "# Фильтрация пустых и невалидных геометрий\n",
    "balanced_buildings = balanced_buildings[~balanced_buildings.geometry.is_empty & balanced_buildings.geometry.notnull() & balanced_buildings.is_valid]\n",
    "services = services[~services.geometry.is_empty & services.geometry.notnull() & services.is_valid]\n",
    "# Фильтрация пустых и невалидных геометрий\n",
    "balanced_buildings = balanced_buildings[~balanced_buildings.geometry.is_empty & balanced_buildings.geometry.notna() & balanced_buildings.is_valid]\n",
    "services = services[~services.geometry.is_empty & services.geometry.notna() & services.is_valid]\n",
    "\n",
    "# buildings = gpd.read_file(r\"ТВОЙ_ПУТЬ_К_ЗДАНИЯМ.geojson\")  # если ещё не загружены\n",
    "\n",
    "# Объединяем все геометрии\n",
    "all_geoms = balanced_buildings.to_crs(4326).geometry.tolist() + services.to_crs(4326).geometry.tolist()\n",
    "union_geom = unary_union(all_geoms)\n",
    "\n",
    "# Строим буферную оболочку\n",
    "polygon = union_geom.convex_hull.buffer(0.001)\n",
    "gdf = gdf[~gdf.geometry.is_empty & gdf.geometry.notna()]\n",
    "valid_geometry = ~gdf.geometry.is_empty & gdf.geometry.notna()\n",
    "gdf = gdf[valid_geometry]\n",
    "\n",
    "# Строим граф\n",
    "G_intermodal = get_intermodal_graph(polygon=polygon, clip_by_bounds=True)\n",
    "\n",
    "# Строим матрицу смежности\n",
    "matrix: pd.DataFrame = get_adj_matrix_gdf_to_gdf(\n",
    "    gdf_from=balanced_buildings,\n",
    "    gdf_to=services,\n",
    "    nx_graph=G_intermodal,\n",
    "    weight=\"time_min\",\n",
    "    threshold=45\n",
    ")\n"
   ]
  },
  {
   "cell_type": "code",
   "execution_count": null,
   "id": "9841b4da",
   "metadata": {},
   "outputs": [],
   "source": [
    "import pandas as pd\n",
    "matrix.to_csv(r\"path_to_file\")"
   ]
  },
  {
   "cell_type": "code",
   "execution_count": null,
   "id": "f17027bf",
   "metadata": {},
   "outputs": [],
   "source": [
    "# Присваиваем атрибуты доступности, вместимости, параметры здания сервиса\n",
    "from service_data_processing import process_service_data, SERVICE_TYPES, BUFFER_SIZES\n",
    "\n",
    "combined_service = process_service_data(school, kindergarten, polyclinic, balanced_buildings)"
   ]
  },
  {
   "cell_type": "code",
   "execution_count": null,
   "id": "3cffe9ce",
   "metadata": {},
   "outputs": [],
   "source": [
    "# Вычисление обеспеченности сервисами\n",
    "\n",
    "from calculating_provision import process_services\n",
    "import pandas as pd\n",
    "\n",
    "balanced_buildings.index = balanced_buildings.index.astype(int)\n",
    "matrix.index = matrix.index.astype(int)\n",
    "matrix.columns = matrix.columns.astype(int)\n",
    "\n",
    "\n",
    "school, kindergarten, polyclinic = process_services(matrix, combined_service, balanced_buildings, output_path=r\"D:\\STUDY\\ВКР\\VKR_CODE\\result_3\")\n",
    "\n",
    "from social_infrastructure_mapper import process_services\n",
    "\n",
    "living_zones = process_services(zones, kindergarten, school, polyclinic)\n"
   ]
  },
  {
   "cell_type": "code",
   "execution_count": null,
   "id": "e7448715",
   "metadata": {},
   "outputs": [],
   "source": [
    "living_zones.to_file(r\"path_to_file\") #сохраните для второго этапа \n",
    "zones.to_file(r\"path_to_file\") #сохраните для второго этапа "
   ]
  }
 ],
 "metadata": {
  "kernelspec": {
   "display_name": ".venv",
   "language": "python",
   "name": "python3"
  },
  "language_info": {
   "codemirror_mode": {
    "name": "ipython",
    "version": 3
   },
   "file_extension": ".py",
   "mimetype": "text/x-python",
   "name": "python",
   "nbconvert_exporter": "python",
   "pygments_lexer": "ipython3",
   "version": "3.11.9"
  }
 },
 "nbformat": 4,
 "nbformat_minor": 5
}
